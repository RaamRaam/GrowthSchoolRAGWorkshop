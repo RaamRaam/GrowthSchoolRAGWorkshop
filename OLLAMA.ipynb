{
 "cells": [
  {
   "cell_type": "markdown",
   "id": "fdcf2f3e",
   "metadata": {},
   "source": [
    "# Using Ollama API for SQL Query Generation"
   ]
  },
  {
   "cell_type": "markdown",
   "id": "a5389ddc",
   "metadata": {},
   "source": [
    "\n",
    "This notebook demonstrates how to use the **Ollama API** to generate SQL queries based on natural language prompts.\n",
    "\n",
    "## Prerequisites\n",
    "1. Install the Ollama SDK: [Ollama SDK Download](https://ollama.com/download)\n",
    "2. Refer to the documentation: [Ollama Python SDK Documentation](https://github.com/ollama/ollama-python)\n"
   ]
  },
  {
   "cell_type": "markdown",
   "id": "33039889",
   "metadata": {},
   "source": [
    "## Generate SQL Query Using Ollama API"
   ]
  },
  {
   "cell_type": "code",
   "execution_count": null,
   "id": "cbe00634",
   "metadata": {},
   "outputs": [],
   "source": [
    "from ollama import chat\n",
    "\n",
    "# Chat with Ollama's model to generate a SQL query based on a natural language request\n",
    "response = chat(model='llama3.2', messages=[\n",
    "  {\n",
    "    'role': 'user',\n",
    "    'content': 'write a sql to extract monthwise sales for years later than 2020'\n",
    "  },\n",
    "])\n",
    "\n",
    "# Print the generated SQL query\n",
    "print(response['message']['content'])"
   ]
  }
 ],
 "metadata": {},
 "nbformat": 4,
 "nbformat_minor": 5
}
