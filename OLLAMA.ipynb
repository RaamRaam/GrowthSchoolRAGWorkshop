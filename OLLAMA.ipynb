{
 "cells": [
  {
   "cell_type": "code",
   "execution_count": 1,
   "id": "e9b4c0e9-33ca-408b-ba55-447c5baa6c10",
   "metadata": {},
   "outputs": [
    {
     "name": "stdout",
     "output_type": "stream",
     "text": [
      "Oh boy, are you ready for a cool secret about the tiny things that make up our world?\n",
      "\n",
      "You know how we can see big things like trees and houses, but we can't see tiny things like atoms and particles? That's because they're too small. But even though we can't see them, they're still there!\n",
      "\n",
      "Imagine you have a toy box full of different colored balls. Each ball represents an atom, and it can be either red or blue. Now, when you reach into the box and grab a ball, you would expect it to be one color or the other, right? But with quantum mechanics, things get really weird.\n",
      "\n",
      "Sometimes, the ball is both red AND blue at the same time! It's like it's playing a game of dress-up and can't decide which color to wear. This is called \"superposition.\" It's a special way that tiny things can be in two states all at once.\n",
      "\n",
      "But wait, there's more! When you look really closely at the ball (or particle), it suddenly becomes just one color or the other. It's like you're shining a flashlight on it and making it decide which color to be. This is called \"observation.\"\n",
      "\n",
      "So, quantum mechanics is like a magic game where tiny things can be in many states all at once, but when we look at them closely, they become just one state. It's pretty cool, right?\n",
      "\n",
      "And the best part? We're still learning about this magic and how it works!\n"
     ]
    }
   ],
   "source": [
    "# https://ollama.com/download\n",
    "# https://github.com/ollama/ollama-python\n",
    "\n",
    "from ollama import chat\n",
    "from ollama import ChatResponse\n",
    "\n",
    "\n",
    "\n",
    "response = chat(model='llama3.2', messages=[\n",
    "  {\n",
    "    'role': 'user',\n",
    "    'content': f\"Explain Quantum Mechanics to a 5 year old\"\n",
    "  },\n",
    "])\n",
    "print(response['message']['content'])\n"
   ]
  }
 ],
 "metadata": {
  "kernelspec": {
   "display_name": "genai",
   "language": "python",
   "name": "genai"
  },
  "language_info": {
   "codemirror_mode": {
    "name": "ipython",
    "version": 3
   },
   "file_extension": ".py",
   "mimetype": "text/x-python",
   "name": "python",
   "nbconvert_exporter": "python",
   "pygments_lexer": "ipython3",
   "version": "3.11.5"
  }
 },
 "nbformat": 4,
 "nbformat_minor": 5
}
