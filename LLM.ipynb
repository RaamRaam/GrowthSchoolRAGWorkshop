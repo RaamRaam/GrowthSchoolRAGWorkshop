{
 "cells": [
  {
   "cell_type": "markdown",
   "id": "d78eccb1",
   "metadata": {},
   "source": [
    "# Text Generation, Summarization, and Question Answering with Transformers"
   ]
  },
  {
   "cell_type": "markdown",
   "id": "5810b896",
   "metadata": {},
   "source": [
    "\n",
    "This notebook demonstrates how to use the `transformers` library for:\n",
    "1. Generating text with GPT-2.\n",
    "2. Summarizing documents with BART.\n",
    "3. Answering questions using pre-trained models.\n",
    "\n",
    "It also includes an example of reading text from a PDF file for question-answering.\n"
   ]
  },
  {
   "cell_type": "markdown",
   "id": "f16aeca7",
   "metadata": {},
   "source": [
    "## Text Generation with GPT-2"
   ]
  },
  {
   "cell_type": "code",
   "execution_count": null,
   "id": "bb25c934",
   "metadata": {},
   "outputs": [],
   "source": [
    "from transformers import pipeline, set_seed\n",
    "\n",
    "generator = pipeline(\"text-generation\", model=\"models/gpt2-large\")\n",
    "\n",
    "set_seed(42)\n",
    "generator(\"The man worked as a\", max_length=10, num_return_sequences=5)\n",
    "generator(\"The woman worked as a\", max_length=10, num_return_sequences=5)\n",
    "generator(\"LLM workshop is\", max_length=100, num_return_sequences=5)"
   ]
  },
  {
   "cell_type": "markdown",
   "id": "95cfcb25",
   "metadata": {},
   "source": [
    "## Summarization with BART"
   ]
  },
  {
   "cell_type": "code",
   "execution_count": null,
   "id": "d3e7ea98",
   "metadata": {},
   "outputs": [],
   "source": [
    "summarize_model = pipeline(\"summarization\", model=\"models/bart-large-cnn\")\n",
    "\n",
    "txt = '''\n",
    "Team India's below-par performance in the Border-Gavaskar Trophy could see big changes in the team and the leadership group. Rohit Sharma's captaincy is under the scanner and the selectors could take a call on him if India fail to reach the World Test Championship final. He has also struggled with the bat and only managed 31 runs in the ongoing series.\n",
    "Amid India's poor performance in Australia, the Indian Express has reported that a senior player is portraying to be 'Mr Fix-it.\" The report states that the senior player is ready to project himself as an interim option for captaincy as he isn't convinced about the young players. The report doesn't mention the name of the senior player.\n",
    "The report adds that Rohit may take a call about his career after the Border-Gavaskar Trophy. He made his ODI and T20I captaincy debut in 2007. Rohit made his Test debut in 2013.\n",
    "'''\n",
    "\n",
    "summarize_model(txt, max_length=int(len(txt.split(\" \"))/4), do_sample=False)"
   ]
  },
  {
   "cell_type": "code",
   "execution_count": null,
   "id": "5a653cc5",
   "metadata": {},
   "outputs": [],
   "source": [
    "txt = '''This document is provided for information purposes only and shall not be regarded as a warranty of a certain functionality, condition, or quality of a product. NVIDIA\n",
    "Corporation (“NVIDIA”) makes no representations or warranties, expressed or implied, as to the accuracy or completeness of the information contained in this document and\n",
    "assumes no responsibility for any errors contained herein. NVIDIA shall have no liability for the consequences or use of such information or for any infringement of patents\n",
    "or other rights of third parties that may result from its use. This document is not a commitment to develop, release, or deliver any Material (defined below), code, or\n",
    "functionality.\n",
    "'''\n",
    "\n",
    "summarize_model(txt, max_length=int(len(txt.split(\" \"))/4), do_sample=False)"
   ]
  },
  {
   "cell_type": "markdown",
   "id": "65587fee",
   "metadata": {},
   "source": [
    "## Question Answering with Transformers"
   ]
  },
  {
   "cell_type": "code",
   "execution_count": null,
   "id": "5e4dd8d1",
   "metadata": {},
   "outputs": [],
   "source": [
    "question_model = pipeline(\"question-answering\", model=\"models/roberta-base-squad2\")\n",
    "question_model_legal = pipeline(\"question-answering\", model=\"models/bert-large-question-answering-finetuned-legal\")\n",
    "question_model_bert = pipeline(\"question-answering\", model=\"models/distilbert-base-cased-distilled-squad\")\n",
    "\n",
    "query = f\"what are customer's responsibilities\"\n",
    "res = question_model(question=query, context=txt, top_k=3)\n",
    "print(res)\n",
    "print()\n",
    "res = question_model_legal(question=query, context=txt, top_k=3)\n",
    "print(res)\n",
    "print()\n",
    "res = question_model_bert(question=query, context=txt, top_k=3)\n",
    "print(res)"
   ]
  },
  {
   "cell_type": "markdown",
   "id": "a41e8ab3",
   "metadata": {},
   "source": [
    "## Reading and Extracting Text from PDF for Question Answering"
   ]
  },
  {
   "cell_type": "code",
   "execution_count": null,
   "id": "338a359c",
   "metadata": {},
   "outputs": [],
   "source": [
    "from PyPDF2 import PdfReader\n",
    "\n",
    "def read_pdf(file_path):\n",
    "    reader = PdfReader(file_path)\n",
    "    content = \"\"\n",
    "    for page in reader.pages:\n",
    "        content += page.extract_text() + \"\\n\"  \n",
    "    return content\n",
    "\n",
    "file_path = \"documents/LLM.pdf\"  \n",
    "pdf_content = read_pdf(file_path)"
   ]
  },
  {
   "cell_type": "code",
   "execution_count": null,
   "id": "0f6e515e",
   "metadata": {},
   "outputs": [],
   "source": [
    "query = f\"what are ways we can build LLMs?\"\n",
    "res = question_model(question=query, context=pdf_content, top_k=3)\n",
    "print(res)\n",
    "print()\n",
    "res = question_model_legal(question=query, context=pdf_content, top_k=3)\n",
    "print(res)\n",
    "print()\n",
    "res = question_model_bert(question=query, context=pdf_content, top_k=3)\n",
    "print(res)"
   ]
  }
 ],
 "metadata": {},
 "nbformat": 4,
 "nbformat_minor": 5
}
