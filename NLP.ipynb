{
 "cells": [
  {
   "cell_type": "code",
   "execution_count": 1,
   "id": "46c0c248-1d95-4884-bc99-663ae93218f4",
   "metadata": {},
   "outputs": [
    {
     "name": "stderr",
     "output_type": "stream",
     "text": [
      "/Users/raamraam/codes/GenAIWorkshop/genai/lib/python3.11/site-packages/tqdm/auto.py:21: TqdmWarning: IProgress not found. Please update jupyter and ipywidgets. See https://ipywidgets.readthedocs.io/en/stable/user_install.html\n",
      "  from .autonotebook import tqdm as notebook_tqdm\n"
     ]
    }
   ],
   "source": [
    "from transformers import pipeline"
   ]
  },
  {
   "cell_type": "code",
   "execution_count": null,
   "id": "4a2dcbf1-a2fc-4e95-ad33-81dca850ae82",
   "metadata": {},
   "outputs": [],
   "source": [
    "# %%time\n",
    "# get_sentiment = pipeline(\"sentiment-analysis\",model=\"nlptown/bert-base-multilingual-uncased-sentiment\")\n",
    "# get_sentiment = pipeline(\"sentiment-analysis\",model=\"distilbert/distilbert-base-uncased-finetuned-sst-2-english\")"
   ]
  },
  {
   "cell_type": "code",
   "execution_count": 16,
   "id": "a201de85-9961-4d59-a6bc-db50b7a2c02e",
   "metadata": {},
   "outputs": [
    {
     "name": "stderr",
     "output_type": "stream",
     "text": [
      "Device set to use mps:0\n",
      "Device set to use mps:0\n",
      "Device set to use mps:0\n",
      "Device set to use mps:0\n",
      "Device set to use mps:0\n",
      "Device set to use mps:0\n",
      "Device set to use mps:0\n"
     ]
    },
    {
     "name": "stdout",
     "output_type": "stream",
     "text": [
      "CPU times: user 5.08 s, sys: 13.4 s, total: 18.5 s\n",
      "Wall time: 47.6 s\n"
     ]
    }
   ],
   "source": [
    "%%time\n",
    "get_sentiment_model1 = pipeline(\"sentiment-analysis\",model=\"models/bert-base-multilingual-uncased-sentiment\")\n",
    "get_sentiment_model2 = pipeline(\"sentiment-analysis\",model=\"models/distilbert-base-uncased-finetuned-sst-2-english\")\n"
   ]
  },
  {
   "cell_type": "code",
   "execution_count": 3,
   "id": "ce0f1844-4536-43da-9cd0-e90806ad9bc7",
   "metadata": {},
   "outputs": [
    {
     "data": {
      "text/plain": [
       "[{'label': '1 star', 'score': 0.869472861289978}]"
      ]
     },
     "execution_count": 3,
     "metadata": {},
     "output_type": "execute_result"
    }
   ],
   "source": [
    "get_sentiment_model1(\"worst work done by the team\")"
   ]
  },
  {
   "cell_type": "code",
   "execution_count": 4,
   "id": "28ab0602-0dfc-4c6c-9816-d01458d871c9",
   "metadata": {},
   "outputs": [
    {
     "data": {
      "text/plain": [
       "[{'label': 'POSITIVE', 'score': 0.9998679161071777}]"
      ]
     },
     "execution_count": 4,
     "metadata": {},
     "output_type": "execute_result"
    }
   ],
   "source": [
    "get_sentiment_model2(\"Great work done by the team\")"
   ]
  },
  {
   "cell_type": "code",
   "execution_count": null,
   "id": "3e99c0f4-28e7-4ab7-a3dd-e3817b48bfff",
   "metadata": {},
   "outputs": [],
   "source": [
    "local_dir = \"./facebook_bart_large_cnn\"\n",
    "\n",
    "# Load the model and tokenizer\n",
    "tokenizer = AutoTokenizer.from_pretrained(local_dir)\n",
    "model = AutoModelForSeq2SeqLM.from_pretrained(local_dir)"
   ]
  },
  {
   "cell_type": "code",
   "execution_count": null,
   "id": "88736a60-b988-42fb-9128-d358ad21d6a0",
   "metadata": {},
   "outputs": [],
   "source": []
  },
  {
   "cell_type": "code",
   "execution_count": null,
   "id": "930acc42-6169-4be5-aa40-2ce80a108cfd",
   "metadata": {},
   "outputs": [],
   "source": [
    "# ssh-keygen -t ed25519 -C \"GrowthSchoolRAGWorkshop\"\n",
    "# cp GrowthSchoolRAGWorkshop /Users/raamraam/.ssh\n",
    "# cat GrowthSchoolRAGWorkshop.pub\n",
    "\n",
    "# git remote add origin https://github.com/RaamRaam/GrowthSchoolRAGWorkshop.git\n",
    "# git branch -M main\n",
    "# git push -u origin main"
   ]
  },
  {
   "cell_type": "code",
   "execution_count": null,
   "id": "c75edb15-a814-4656-86ca-fe83f968ab53",
   "metadata": {},
   "outputs": [],
   "source": []
  }
 ],
 "metadata": {
  "kernelspec": {
   "display_name": "genai",
   "language": "python",
   "name": "genai"
  },
  "language_info": {
   "codemirror_mode": {
    "name": "ipython",
    "version": 3
   },
   "file_extension": ".py",
   "mimetype": "text/x-python",
   "name": "python",
   "nbconvert_exporter": "python",
   "pygments_lexer": "ipython3",
   "version": "3.11.5"
  }
 },
 "nbformat": 4,
 "nbformat_minor": 5
}
