{
 "cells": [
  {
   "cell_type": "markdown",
   "id": "5ec266a6",
   "metadata": {},
   "source": [
    "# Sentiment Analysis and Zero-Shot Classification with Transformers"
   ]
  },
  {
   "cell_type": "markdown",
   "id": "5a5dca8c",
   "metadata": {},
   "source": [
    "\n",
    "This notebook demonstrates:\n",
    "1. **Sentiment Analysis** using pre-trained models.\n",
    "2. **Zero-Shot Classification** for assigning labels to text based on context.\n"
   ]
  },
  {
   "cell_type": "markdown",
   "id": "64d77ac6",
   "metadata": {},
   "source": [
    "## Sentiment Analysis with Pre-trained Models"
   ]
  },
  {
   "cell_type": "code",
   "execution_count": null,
   "id": "25aa55a3",
   "metadata": {},
   "outputs": [],
   "source": [
    "from transformers import pipeline, AutoTokenizer, AutoModelForSequenceClassification\n",
    "\n",
    "# Load tokenizer and model for sentiment analysis\n",
    "tokenizer = AutoTokenizer.from_pretrained(\"nlptown/bert-base-multilingual-uncased-sentiment\")\n",
    "model = AutoModelForSequenceClassification.from_pretrained(\"nlptown/bert-base-multilingual-uncased-sentiment\")\n",
    "sentiment_analyzer = pipeline(\"sentiment-analysis\", model=model, tokenizer=tokenizer)"
   ]
  },
  {
   "cell_type": "code",
   "execution_count": null,
   "id": "3e947803",
   "metadata": {},
   "outputs": [],
   "source": [
    "# Analyze sentiment for a given text\n",
    "text = \"Most of my students have scored high marks in JEE\"\n",
    "sentiment_analyzer(text)"
   ]
  },
  {
   "cell_type": "code",
   "execution_count": null,
   "id": "67fd0b8e",
   "metadata": {},
   "outputs": [],
   "source": [
    "# Additional examples\n",
    "text = \"The Medical reports reveal Blood sugar and Blood pressure are high\"\n",
    "sentiment_analyzer(text)\n",
    "\n",
    "text = \"High Blood Pressure Levels\"\n",
    "sentiment_analyzer(text)"
   ]
  },
  {
   "cell_type": "markdown",
   "id": "7c79408d",
   "metadata": {},
   "source": [
    "## Tokenization and Token Details"
   ]
  },
  {
   "cell_type": "code",
   "execution_count": null,
   "id": "0094cd19",
   "metadata": {},
   "outputs": [],
   "source": [
    "# Tokenize and explore input details\n",
    "tokenized_output = tokenizer(text, return_tensors=\"pt\", truncation=True, padding=True, max_length=512)\n",
    "tokens = tokenizer.tokenize(text)  # Tokenized words\n",
    "input_ids = tokenized_output[\"input_ids\"]  # Token IDs\n",
    "attention_mask = tokenized_output[\"attention_mask\"]  # Attention mask\n",
    "\n",
    "input_ids"
   ]
  },
  {
   "cell_type": "markdown",
   "id": "81b06d4c",
   "metadata": {},
   "source": [
    "## Comparing Sentiment Analysis Models"
   ]
  },
  {
   "cell_type": "code",
   "execution_count": null,
   "id": "89446849",
   "metadata": {},
   "outputs": [],
   "source": [
    "# Sentiment analysis with different models\n",
    "get_sentiment1 = pipeline(\"sentiment-analysis\", model=\"nlptown/bert-base-multilingual-uncased-sentiment\")\n",
    "get_sentiment2 = pipeline(\"sentiment-analysis\", model=\"distilbert/distilbert-base-uncased-finetuned-sst-2-english\")\n",
    "\n",
    "get_sentiment_model1 = pipeline(\"sentiment-analysis\", model=\"models/bert-base-multilingual-uncased-sentiment\")\n",
    "get_sentiment_model2 = pipeline(\"sentiment-analysis\", model=\"models/distilbert-base-uncased-finetuned-sst-2-english\")"
   ]
  },
  {
   "cell_type": "code",
   "execution_count": null,
   "id": "099153ce",
   "metadata": {},
   "outputs": [],
   "source": [
    "# Example with medical context\n",
    "text = \"The Medical reports reveal Blood sugar and Blood pressure are high\"\n",
    "\n",
    "print(get_sentiment_model1(text))\n",
    "print(\"************\")\n",
    "print(get_sentiment_model2(text))"
   ]
  },
  {
   "cell_type": "code",
   "execution_count": null,
   "id": "52322d78",
   "metadata": {},
   "outputs": [],
   "source": [
    "# Positive example\n",
    "get_sentiment_model2(\"Great work done by the team\")"
   ]
  },
  {
   "cell_type": "markdown",
   "id": "030947dd",
   "metadata": {},
   "source": [
    "## Zero-Shot Classification"
   ]
  },
  {
   "cell_type": "code",
   "execution_count": null,
   "id": "679ac280",
   "metadata": {},
   "outputs": [],
   "source": [
    "# Zero-shot classification using BART model\n",
    "classifier = pipeline(\"zero-shot-classification\", model=\"facebook/bart-large-mnli\")\n",
    "\n",
    "text = \"I am attending an LLM Workshop\"\n",
    "candidate_labels = [\"education\", \"politics\", \"technology\"]\n",
    "\n",
    "result = classifier(text, candidate_labels=candidate_labels)\n",
    "result"
   ]
  }
 ],
 "metadata": {},
 "nbformat": 4,
 "nbformat_minor": 5
}
