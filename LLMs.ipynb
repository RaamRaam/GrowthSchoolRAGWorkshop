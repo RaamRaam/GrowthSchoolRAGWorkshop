{
 "cells": [
  {
   "cell_type": "code",
   "execution_count": null,
   "id": "5d32e313-117c-4578-a2e6-200914eb5446",
   "metadata": {},
   "outputs": [],
   "source": [
    "from transformers import pipeline, set_seed"
   ]
  },
  {
   "cell_type": "code",
   "execution_count": null,
   "id": "b20fc88b-e2da-458d-afd6-1bc2c0c12069",
   "metadata": {},
   "outputs": [],
   "source": []
  },
  {
   "cell_type": "code",
   "execution_count": null,
   "id": "96921b22-a528-42a8-8012-6ce725d313e2",
   "metadata": {},
   "outputs": [],
   "source": [
    "generator = pipeline(\"text-generation\", model=\"models/gpt2-large\")\n",
    "\n",
    "set_seed(42)\n",
    "generator(\"The man worked as a\", max_length=10, num_return_sequences=5)\n",
    "\n",
    "\n",
    "set_seed(42)\n",
    "generator(\"The woman worked as a\", max_length=10, num_return_sequences=5)\n"
   ]
  },
  {
   "cell_type": "code",
   "execution_count": null,
   "id": "6046c824-d0d2-4aa1-a5b0-546727fd5613",
   "metadata": {},
   "outputs": [],
   "source": []
  },
  {
   "cell_type": "code",
   "execution_count": null,
   "id": "6ffba58b-b933-4512-93b9-c63b8beeecf9",
   "metadata": {},
   "outputs": [],
   "source": []
  },
  {
   "cell_type": "code",
   "execution_count": null,
   "id": "1063880c-6b0a-478f-affe-7e443dd8ef77",
   "metadata": {},
   "outputs": [],
   "source": [
    "summarize_model = pipeline(\"summarization\", model=\"models/bart-large-cnn\")\n"
   ]
  },
  {
   "cell_type": "code",
   "execution_count": null,
   "id": "2620b5cf-6548-47ed-85c1-34fde8d4572d",
   "metadata": {},
   "outputs": [],
   "source": [
    "txt='''\n",
    "Team India's below-par performance in the Border-Gavaskar Trophy could see big changes in the team and the leadership group. Rohit Sharma's captaincy is under the scanner and the selectors could take a call on him if India fail to reach the World Test Championship final. He has also struggled with the bat and only managed 31 runs in the ongoing series.\n",
    "Amid India's poor performance in Australia, the Indian Express has reported that a senior player is portraying to be 'Mr Fix-it.\" The report states that the senior player is ready to project himself as an interim option for captaincy as he isn't convinced about the young players. The report doesn't mention the name of the senior player.\n",
    "The report adds that Rohit may take a call about his career after the Border-Gavaskar Trophy. He made his ODI and T20I captaincy debut in 2007. Rohit made his Test debut in 2013.\n",
    "'''\n",
    "\n",
    "summarize_model(txt, max_length=int(len(txt.split(\" \"))/4), do_sample=False)"
   ]
  },
  {
   "cell_type": "code",
   "execution_count": null,
   "id": "1648e62f-4621-4938-9e4e-53e351677f69",
   "metadata": {},
   "outputs": [],
   "source": [
    "txt='''This document is provided for information purposes only and shall not be regarded as a warranty of a certain functionality, condition, or quality of a product. NVIDIA\n",
    "Corporation (“NVIDIA”) makes no representations or warranties, expressed or implied, as to the accuracy or completeness of the information contained in this document and\n",
    "assumes no responsibility for any errors contained herein. NVIDIA shall have no liability for the consequences or use of such information or for any infringement of patents\n",
    "or other rights of third parties that may result from its use. This document is not a commitment to develop, release, or deliver any Material (defined below), code, or\n",
    "functionality.\n",
    "NVIDIA reserves the right to make corrections, modifications, enhancements, improvements, and any other changes to this document, at any time without notice.\n",
    "Customer should obtain the latest relevant information before placing orders and should verify that such information is current and complete.\n",
    "NVIDIA products are sold subject to the NVIDIA standard terms and conditions of sale supplied at the time of order acknowledgement, unless otherwise agreed in an individual\n",
    "sales agreement signed by authorized representatives of NVIDIA and customer (“Terms of Sale”). NVIDIA hereby expressly objects to applying any customer general terms\n",
    "and conditions with regards to the purchase of the NVIDIA product referenced in this document. No contractual obligations are formed either directly or indirectly by this\n",
    "document.\n",
    "NVIDIA products are not designed, authorized, or warranted to be suitable for use in medical, military, aircraft, space, or life support equipment, nor in applications where\n",
    "failure or malfunction of the NVIDIA product can reasonably be expected to result in personal injury, death, or property or environmental damage. NVIDIA accepts no liability\n",
    "for inclusion and/or use of NVIDIA products in such equipment or applications and therefore such inclusion and/or use is at customer’s own risk.\n",
    "NVIDIA makes no representation or warranty that products based on this document will be suitable for any specified use. Testing of all parameters of each product is not\n",
    "necessarily performed by NVIDIA. It is customer’s sole responsibility to evaluate and determine the applicability of any information contained in this document, ensure the\n",
    "product is suitable and fit for the application planned by customer, and perform the necessary testing for the application in order to avoid a default of the application or the\n",
    "product. Weaknesses in customer’s product designs may affect the quality and reliability of the NVIDIA product and may result in additional or different conditions and/or\n",
    "requirements beyond those contained in this document. NVIDIA accepts no liability related to any default, damage, costs, or problem which may be based on or attributable\n",
    "to: (i) the use of the NVIDIA product in any manner that is contrary to this document or (ii) customer product designs.\n",
    "No license, either expressed or implied, is granted under any NVIDIA patent right, copyright, or other NVIDIA intellectual property right under this document. Information\n",
    "published by NVIDIA regarding third-party products or services does not constitute a license from NVIDIA to use such products or services or a warranty or endorsement\n",
    "thereof. Use of such information may require a license from a third party under the patents or other intellectual property rights of the third party, or a license from NVIDIA\n",
    "under the patents or other intellectual property rights of NVIDIA.\n",
    "Reproduction of information in this document is permissible only if approved in advance by NVIDIA in writing, reproduced without alteration and in full compliance with all\n",
    "applicable export laws and regulations, and accompanied by all associated conditions, limitations, and notices.\n",
    "THIS DOCUMENT AND ALL NVIDIA DESIGN SPECIFICATIONS, REFERENCE BOARDS, FILES, DRAWINGS, DIAGNOSTICS, LISTS, AND OTHER DOCUMENTS (TOGETHER AND\n",
    "SEPARATELY, “MATERIALS”) ARE BEING PROVIDED “AS IS.” NVIDIA MAKES NO WARRANTIES, EXPRESSED, IMPLIED, STATUTORY, OR OTHERWISE WITH RESPECT TO THE\n",
    "MATERIALS, AND EXPRESSLY DISCLAIMS ALL IMPLIED WARRANTIES OF NONINFRINGEMENT, MERCHANTABILITY, AND FITNESS FOR A PARTICULAR PURPOSE. TO THE EXTENT\n",
    "NOT PROHIBITED BY LAW, IN NO EVENT WILL NVIDIA BE LIABLE FOR ANY DAMAGES, INCLUDING WITHOUT LIMITATION ANY DIRECT, INDIRECT, SPECIAL, INCIDENTAL,\n",
    "PUNITIVE, OR CONSEQUENTIAL DAMAGES, HOWEVER CAUSED AND REGARDLESS OF THE THEORY OF LIABILITY, ARISING OUT OF ANY USE OF THIS DOCUMENT, EVEN IF\n",
    "NVIDIA HAS BEEN ADVISED OF THE POSSIBILITY OF SUCH DAMAGES. Notwithstanding any damages that customer might incur for any reason whatsoever, NVIDIA’s aggregate\n",
    "and cumulative liability towards customer for the products described herein shall be limited in accordance with the Terms of Sale for the product.'''\n",
    "\n",
    "summarize_model(txt, max_length=int(len(txt.split(\" \"))/4), do_sample=False)"
   ]
  },
  {
   "cell_type": "code",
   "execution_count": null,
   "id": "6d9f6a8a-45ce-4795-b196-1ca8e8d0e1fb",
   "metadata": {},
   "outputs": [],
   "source": []
  },
  {
   "cell_type": "code",
   "execution_count": null,
   "id": "f3d6c024-d270-4e0c-8a50-515b13dc1f87",
   "metadata": {},
   "outputs": [],
   "source": []
  },
  {
   "cell_type": "code",
   "execution_count": null,
   "id": "db8ddb0c-8681-4a6b-9ff8-fb238c5d0a24",
   "metadata": {},
   "outputs": [],
   "source": []
  },
  {
   "cell_type": "code",
   "execution_count": null,
   "id": "616c1178-ae21-4a75-8182-3e3ef7a1ae8a",
   "metadata": {},
   "outputs": [],
   "source": [
    "question_model = pipeline(\"question-answering\",model=\"models/roberta-base-squad2\")\n",
    "question_model_legal = pipeline(\"question-answering\", model=\"models/bert-large-question-answering-finetuned-legal\")\n",
    "question_model_bert = pipeline(\"question-answering\", model=\"models/distilbert-base-cased-distilled-squad\")"
   ]
  },
  {
   "cell_type": "code",
   "execution_count": null,
   "id": "e21cda9a-c94e-490b-b0c3-263a42d29e33",
   "metadata": {},
   "outputs": [],
   "source": [
    "query=f\"what are customer's responsibilities\"\n",
    "res = question_model(question=query, context=txt, top_k=3)\n",
    "print(res)\n",
    "print()\n",
    "res = question_model_legal(question=query, context=txt, top_k=3)\n",
    "print(res)\n",
    "print()\n",
    "res=question_model_bert(question=query, context=txt, top_k=3)\n",
    "print(res)"
   ]
  },
  {
   "cell_type": "code",
   "execution_count": null,
   "id": "ca681517-3cb9-4261-93b0-08bc00d164e4",
   "metadata": {},
   "outputs": [],
   "source": []
  },
  {
   "cell_type": "code",
   "execution_count": null,
   "id": "b64f0f4b-ceee-4c08-991f-d75ddc8f0fbe",
   "metadata": {},
   "outputs": [],
   "source": [
    "from PyPDF2 import PdfReader\n",
    "\n",
    "def read_pdf(file_path):\n",
    "    reader = PdfReader(file_path)\n",
    "    content = \"\"\n",
    "    for page in reader.pages:\n",
    "        content += page.extract_text() + \"\\n\"  \n",
    "    return content\n",
    "\n"
   ]
  },
  {
   "cell_type": "code",
   "execution_count": null,
   "id": "ff0ecee6-2e6d-468e-b76a-32a74966d3c7",
   "metadata": {},
   "outputs": [],
   "source": [
    "file_path = \"documents/LLM.pdf\"  \n",
    "pdf_content = read_pdf(file_path)\n"
   ]
  },
  {
   "cell_type": "code",
   "execution_count": null,
   "id": "6440fffd-ae3b-4511-93ad-5e8a23543b4f",
   "metadata": {},
   "outputs": [],
   "source": []
  },
  {
   "cell_type": "code",
   "execution_count": null,
   "id": "ef13b7be-e777-4664-acbf-1d050714d1c8",
   "metadata": {},
   "outputs": [],
   "source": [
    "query=f\"what are ways we can build LLMs?\"\n",
    "res = question_model(question=query, context=pdf_content, top_k=3)\n",
    "print(res)\n",
    "print()\n",
    "res = question_model_legal(question=query, context=pdf_content, top_k=3)\n",
    "print(res)\n",
    "print()\n",
    "res=question_model_bert(question=query, context=pdf_content, top_k=3)\n",
    "print(res)"
   ]
  },
  {
   "cell_type": "code",
   "execution_count": null,
   "id": "2b9dd6ca-66b9-4ea4-ad67-21a1bb207cb2",
   "metadata": {},
   "outputs": [],
   "source": []
  },
  {
   "cell_type": "code",
   "execution_count": null,
   "id": "86cb4e39-0bd1-400a-866d-9da62b44c1fa",
   "metadata": {},
   "outputs": [],
   "source": []
  },
  {
   "cell_type": "code",
   "execution_count": null,
   "id": "a33ea38b-49e3-4523-9832-546e8422800a",
   "metadata": {},
   "outputs": [],
   "source": []
  },
  {
   "cell_type": "code",
   "execution_count": null,
   "id": "125da5a1-3606-48e6-98c3-af4c1d8f7598",
   "metadata": {},
   "outputs": [],
   "source": []
  },
  {
   "cell_type": "code",
   "execution_count": null,
   "id": "c91e7f1d-d346-4b35-8b9a-48efc03e9ea6",
   "metadata": {},
   "outputs": [],
   "source": []
  },
  {
   "cell_type": "code",
   "execution_count": null,
   "id": "bd568149-38d8-43ad-9f0e-448a4417ac97",
   "metadata": {},
   "outputs": [],
   "source": []
  }
 ],
 "metadata": {
  "kernelspec": {
   "display_name": "genai",
   "language": "python",
   "name": "genai"
  },
  "language_info": {
   "codemirror_mode": {
    "name": "ipython",
    "version": 3
   },
   "file_extension": ".py",
   "mimetype": "text/x-python",
   "name": "python",
   "nbconvert_exporter": "python",
   "pygments_lexer": "ipython3",
   "version": "3.11.5"
  }
 },
 "nbformat": 4,
 "nbformat_minor": 5
}
